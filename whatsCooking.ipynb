{
  "nbformat": 4,
  "nbformat_minor": 0,
  "metadata": {
    "colab": {
      "provenance": [],
      "authorship_tag": "ABX9TyMgmhQRJJNabrhMIYV/yYpD",
      "include_colab_link": true
    },
    "kernelspec": {
      "name": "python3",
      "display_name": "Python 3"
    },
    "language_info": {
      "name": "python"
    }
  },
  "cells": [
    {
      "cell_type": "markdown",
      "metadata": {
        "id": "view-in-github",
        "colab_type": "text"
      },
      "source": [
        "<a href=\"https://colab.research.google.com/github/madhu-1013/DS_internship/blob/main/whatsCooking.ipynb\" target=\"_parent\"><img src=\"https://colab.research.google.com/assets/colab-badge.svg\" alt=\"Open In Colab\"/></a>"
      ]
    },
    {
      "cell_type": "markdown",
      "source": [
        "# **Classification**"
      ],
      "metadata": {
        "id": "SvASyU3cre4K"
      }
    },
    {
      "cell_type": "code",
      "source": [
        "#1. logistic Regression\n",
        "import pandas as pd\n",
        "from sklearn.feature_extraction.text import CountVectorizer\n",
        "from sklearn.linear_model import LogisticRegression\n",
        "from sklearn.model_selection import train_test_split\n",
        "from sklearn.metrics import accuracy_score, classification_report, confusion_matrix\n",
        "\n",
        "# Load the dataset\n",
        "df = pd.read_json(\"train.json\")\n",
        "\n",
        "# Convert ingredients lists to strings\n",
        "df['ingredients'] = df['ingredients'].apply(lambda x: ' '.join(x))\n",
        "\n",
        "# Feature extraction using CountVectorizer (Bag of Words)\n",
        "vectorizer = CountVectorizer()\n",
        "X = vectorizer.fit_transform(df['ingredients'])\n",
        "\n",
        "# Target variable\n",
        "y = df['cuisine']\n",
        "\n",
        "# Split the data into training and test sets\n",
        "X_train, X_test, y_train, y_test = train_test_split(X, y, random_state=1, test_size=0.3)\n",
        "\n",
        "# Initialize and train the logistic regression model\n",
        "logr = LogisticRegression(max_iter=10000)\n",
        "logr.fit(X_train, y_train)\n",
        "\n",
        "# Make predictions\n",
        "y_pred = logr.predict(X_test)\n",
        "\n",
        "# Evaluate the model\n",
        "accuracy = accuracy_score(y_test, y_pred)\n",
        "report = classification_report(y_test, y_pred)\n",
        "conf_matrix = confusion_matrix(y_test, y_pred)\n",
        "\n",
        "print(f'Accuracy: {accuracy}')\n",
        "print('Classification Report:')\n",
        "print(report)\n",
        "print('Confusion Matrix:')\n",
        "print(conf_matrix)"
      ],
      "metadata": {
        "colab": {
          "base_uri": "https://localhost:8080/"
        },
        "id": "HXI6K1f_rh7N",
        "outputId": "bfbd3456-83dd-48a0-d932-549f0a3e6324"
      },
      "execution_count": 1,
      "outputs": [
        {
          "output_type": "stream",
          "name": "stdout",
          "text": [
            "Accuracy: 0.776585938154697\n",
            "Classification Report:\n",
            "              precision    recall  f1-score   support\n",
            "\n",
            "   brazilian       0.62      0.54      0.58       128\n",
            "     british       0.55      0.41      0.47       246\n",
            "cajun_creole       0.73      0.69      0.71       453\n",
            "     chinese       0.81      0.82      0.82       800\n",
            "    filipino       0.70      0.58      0.63       238\n",
            "      french       0.60      0.63      0.61       787\n",
            "       greek       0.79      0.71      0.75       358\n",
            "      indian       0.85      0.87      0.86       899\n",
            "       irish       0.59      0.56      0.58       186\n",
            "     italian       0.81      0.87      0.84      2386\n",
            "    jamaican       0.82      0.71      0.76       169\n",
            "    japanese       0.76      0.67      0.71       417\n",
            "      korean       0.79      0.82      0.80       236\n",
            "     mexican       0.91      0.91      0.91      1946\n",
            "    moroccan       0.85      0.73      0.78       226\n",
            "     russian       0.59      0.49      0.54       155\n",
            " southern_us       0.70      0.79      0.74      1288\n",
            "     spanish       0.57      0.51      0.54       299\n",
            "        thai       0.77      0.76      0.77       476\n",
            "  vietnamese       0.66      0.55      0.60       240\n",
            "\n",
            "    accuracy                           0.78     11933\n",
            "   macro avg       0.72      0.68      0.70     11933\n",
            "weighted avg       0.77      0.78      0.77     11933\n",
            "\n",
            "Confusion Matrix:\n",
            "[[  69    2    2    1    6    4    0    3    0    7    3    0    1   12\n",
            "     0    0   13    4    1    0]\n",
            " [   2  102    1    0    0   35    1    8   23   17    2    3    0    2\n",
            "     0    7   40    2    1    0]\n",
            " [   3    3  314    1    0   15    1    1    2   23    1    0    0    9\n",
            "     0    2   74    4    0    0]\n",
            " [   0    1    1  660   17    6    1    5    0    9    1   25   22    7\n",
            "     1    2   11    0   19   12]\n",
            " [   2    1    2   31  138    4    0    2    2    7    1    4    2    9\n",
            "     0    1   11    2   11    8]\n",
            " [   1   14   10    1    1  494    2    5   17  141    3    3    0    7\n",
            "     3   15   54   16    0    0]\n",
            " [   1    2    0    1    0   14  254    5    1   60    1    2    0    2\n",
            "     4    2    2    7    0    0]\n",
            " [   3    3    0    2    4    5    8  781    2   10    5   16    2   17\n",
            "    14    0   11    4   12    0]\n",
            " [   0   17    0    0    0   16    4    3  105    8    2    0    0    0\n",
            "     0    3   27    1    0    0]\n",
            " [   2    9   18    1    1  104   28    9    8 2083    0    4    0   24\n",
            "     2    4   63   23    2    1]\n",
            " [   2    3    4    3    3    1    0    9    2    2  120    0    0    3\n",
            "     0    2   14    1    0    0]\n",
            " [   2    1    2   36    3    6    0   36    0   13    1  279   15    1\n",
            "     0    3    9    2    5    3]\n",
            " [   0    0    0   19    2    0    0    0    0    2    0    9  194    0\n",
            "     1    0    2    1    2    4]\n",
            " [   8    3    3    4    2   15    1   11    2   39    1    2    0 1772\n",
            "     0    2   54   21    4    2]\n",
            " [   0    0    0    1    0    6    9   10    0   12    1    1    0    7\n",
            "   164    1    7    7    0    0]\n",
            " [   1    6    0    2    2   21    3    0    2   15    0    1    0    5\n",
            "     1   76   14    5    1    0]\n",
            " [   7   17   62    5    6   42    6    7   10   52    3    5    0   32\n",
            "     1    7 1013   11    1    1]\n",
            " [   3    1    8    2    3   30    2    5    2   53    0    0    0   23\n",
            "     0    1   13  153    0    0]\n",
            " [   2    0    0   21    7    0    1   15    1    1    2    6    6    7\n",
            "     1    0    5    0  363   38]\n",
            " [   3    0    1   21    2    3    0    3    0    5    0    7    4    3\n",
            "     2    0    1    4   48  133]]\n"
          ]
        }
      ]
    },
    {
      "cell_type": "code",
      "source": [
        "#2. Naive Bayes Classifier\n",
        "\n",
        "import pandas as pd\n",
        "from sklearn.feature_extraction.text import CountVectorizer\n",
        "from sklearn.naive_bayes import MultinomialNB\n",
        "from sklearn.model_selection import train_test_split\n",
        "from sklearn.metrics import accuracy_score, classification_report, confusion_matrix\n",
        "\n",
        "# Load the dataset\n",
        "df = pd.read_json(\"train.json\")\n",
        "\n",
        "# Convert ingredients lists to strings\n",
        "df['ingredients'] = df['ingredients'].apply(lambda x: ' '.join(x))\n",
        "\n",
        "# Feature extraction using CountVectorizer (Bag of Words)\n",
        "vectorizer = CountVectorizer()\n",
        "X = vectorizer.fit_transform(df['ingredients'])\n",
        "\n",
        "# Target variable\n",
        "y = df['cuisine']\n",
        "\n",
        "# Split the data into training and test sets\n",
        "X_train, X_test, y_train, y_test = train_test_split(X, y, random_state=1, test_size=0.3)\n",
        "\n",
        "# Initialize and train the Naive Bayes model\n",
        "nb = MultinomialNB()\n",
        "nb.fit(X_train, y_train)\n",
        "\n",
        "# Make predictions\n",
        "y_pred = nb.predict(X_test)\n",
        "\n",
        "# Evaluate the model\n",
        "accuracy = accuracy_score(y_test, y_pred)\n",
        "report = classification_report(y_test, y_pred)\n",
        "conf_matrix = confusion_matrix(y_test, y_pred)\n",
        "\n",
        "print(f'Accuracy: {accuracy}')\n",
        "print('Classification Report:')\n",
        "print(report)\n",
        "print('Confusion Matrix:')\n",
        "print(conf_matrix)\n"
      ],
      "metadata": {
        "colab": {
          "base_uri": "https://localhost:8080/"
        },
        "id": "T5h4-qsmtTXz",
        "outputId": "0acda7e2-84f6-4c6a-d55d-2e767528b08f"
      },
      "execution_count": 2,
      "outputs": [
        {
          "output_type": "stream",
          "name": "stdout",
          "text": [
            "Accuracy: 0.7187630939411715\n",
            "Classification Report:\n",
            "              precision    recall  f1-score   support\n",
            "\n",
            "   brazilian       0.49      0.30      0.37       128\n",
            "     british       0.36      0.35      0.35       246\n",
            "cajun_creole       0.55      0.75      0.63       453\n",
            "     chinese       0.74      0.86      0.80       800\n",
            "    filipino       0.73      0.41      0.52       238\n",
            "      french       0.49      0.52      0.51       787\n",
            "       greek       0.70      0.63      0.66       358\n",
            "      indian       0.83      0.88      0.85       899\n",
            "       irish       0.60      0.36      0.45       186\n",
            "     italian       0.83      0.78      0.80      2386\n",
            "    jamaican       0.86      0.56      0.68       169\n",
            "    japanese       0.85      0.56      0.67       417\n",
            "      korean       0.80      0.74      0.77       236\n",
            "     mexican       0.91      0.87      0.89      1946\n",
            "    moroccan       0.72      0.74      0.73       226\n",
            "     russian       0.55      0.33      0.41       155\n",
            " southern_us       0.56      0.72      0.63      1288\n",
            "     spanish       0.51      0.48      0.50       299\n",
            "        thai       0.69      0.79      0.73       476\n",
            "  vietnamese       0.69      0.45      0.54       240\n",
            "\n",
            "    accuracy                           0.72     11933\n",
            "   macro avg       0.67      0.60      0.63     11933\n",
            "weighted avg       0.73      0.72      0.72     11933\n",
            "\n",
            "Confusion Matrix:\n",
            "[[  38    3   10    0    1    3    0    5    0   13    1    0    0   13\n",
            "     0    0   18   11   12    0]\n",
            " [   1   85    4    0    0   39    0    7   10    7    2    0    1    0\n",
            "     2    3   81    4    0    0]\n",
            " [   0    5  339    0    0   10    1    2    1   22    0    0    1   13\n",
            "     1    3   51    3    0    1]\n",
            " [   1    2    7  690   10    8    2    6    2    6    1   15   10    2\n",
            "     1    1    9    0   18    9]\n",
            " [   5    2    7   51   97    4    0    4    0    5    0    1    6    7\n",
            "     0    1   25    3   14    6]\n",
            " [   3   30   16    1    3  413   12    2    9  127    0    2    0    7\n",
            "     3    3  137   17    1    1]\n",
            " [   0   10    6    0    0   16  226    2    0   62    0    0    0    4\n",
            "    12    0   12    8    0    0]\n",
            " [   4    4    2    1    1    4    8  790    3    5    1    1    1   11\n",
            "    20    8   20    0   14    1]\n",
            " [   0   12    1    0    1   25    2    2   67    7    0    0    0    3\n",
            "     2    3   59    2    0    0]\n",
            " [   2   33   32    0    1  198   42    6    9 1860    0    0    0   23\n",
            "    13    6  113   43    5    0]\n",
            " [   1    3   16    2    2    2    0   11    1    2   95    0    0    4\n",
            "     1    0   27    0    2    0]\n",
            " [   2    6    0   66    1   10    2   41    1    6    1  232   14    4\n",
            "     0    3   17    0   11    0]\n",
            " [   0    0    1   36    0    0    0    2    1    1    0    7  175    0\n",
            "     1    0    6    1    3    2]\n",
            " [   6    3   12    8    3   11    5   26    2   25    0    2    0 1696\n",
            "     1    1  100   25   18    2]\n",
            " [   0    2    2    1    0    3   11   15    0    5    3    1    0    3\n",
            "   168    2    6    3    1    0]\n",
            " [   0   11    3    1    2   28    3    1    1   11    0    2    1    8\n",
            "     1   51   27    4    0    0]\n",
            " [   4   18  137    9    5   29    4   15    4   51    6    0    3   47\n",
            "     4    7  926   14    2    3]\n",
            " [   0    5   19    2    0   38    3    5    1   37    0    0    0   21\n",
            "     1    0   19  145    3    0]\n",
            " [   5    0    0   31    2    1    1   11    0    1    0    5    5    6\n",
            "     0    0    8    0  376   24]\n",
            " [   5    0    2   34    3    2    0    3    0    1    0    5    1    2\n",
            "     1    0    5    0   68  108]]\n"
          ]
        }
      ]
    },
    {
      "cell_type": "code",
      "source": [
        "# 3. KNN\n",
        "\n",
        "import pandas as pd\n",
        "from sklearn.feature_extraction.text import CountVectorizer\n",
        "from sklearn.neighbors import KNeighborsClassifier\n",
        "from sklearn.model_selection import train_test_split\n",
        "from sklearn.metrics import accuracy_score, classification_report, confusion_matrix\n",
        "\n",
        "# Load the dataset\n",
        "df = pd.read_json(\"train.json\")\n",
        "\n",
        "# Convert ingredients lists to strings\n",
        "df['ingredients'] = df['ingredients'].apply(lambda x: ' '.join(x))\n",
        "\n",
        "# Feature extraction using CountVectorizer (Bag of Words)\n",
        "vectorizer = CountVectorizer()\n",
        "X = vectorizer.fit_transform(df['ingredients'])\n",
        "\n",
        "# Target variable\n",
        "y = df['cuisine']\n",
        "\n",
        "# Split the data into training and test sets\n",
        "X_train, X_test, y_train, y_test = train_test_split(X, y, random_state=1, test_size=0.3)\n",
        "\n",
        "# Initialize and train the KNN model\n",
        "knn = KNeighborsClassifier(n_neighbors=5)  # You can adjust the number of neighbors\n",
        "knn.fit(X_train, y_train)\n",
        "\n",
        "# Make predictions\n",
        "y_pred = knn.predict(X_test)\n",
        "\n",
        "# Evaluate the model\n",
        "accuracy = accuracy_score(y_test, y_pred)\n",
        "report = classification_report(y_test, y_pred)\n",
        "conf_matrix = confusion_matrix(y_test, y_pred)\n",
        "print(f'Accuracy: {accuracy}')\n",
        "print('Classification Report:')\n",
        "print(report)\n",
        "print('Confusion Matrix:')\n",
        "print(conf_matrix)"
      ],
      "metadata": {
        "colab": {
          "base_uri": "https://localhost:8080/"
        },
        "id": "T12np8K3tiL5",
        "outputId": "d4829723-f783-46e9-f97f-dd7424e55bbd"
      },
      "execution_count": 3,
      "outputs": [
        {
          "output_type": "stream",
          "name": "stdout",
          "text": [
            "Accuracy: 0.6269169529875136\n",
            "Classification Report:\n",
            "              precision    recall  f1-score   support\n",
            "\n",
            "   brazilian       0.28      0.48      0.36       128\n",
            "     british       0.29      0.28      0.29       246\n",
            "cajun_creole       0.55      0.53      0.54       453\n",
            "     chinese       0.67      0.74      0.70       800\n",
            "    filipino       0.38      0.53      0.44       238\n",
            "      french       0.38      0.48      0.42       787\n",
            "       greek       0.54      0.50      0.52       358\n",
            "      indian       0.70      0.74      0.72       899\n",
            "       irish       0.46      0.45      0.46       186\n",
            "     italian       0.66      0.79      0.72      2386\n",
            "    jamaican       0.77      0.47      0.58       169\n",
            "    japanese       0.61      0.51      0.56       417\n",
            "      korean       0.62      0.56      0.58       236\n",
            "     mexican       0.78      0.80      0.79      1946\n",
            "    moroccan       0.66      0.38      0.48       226\n",
            "     russian       0.62      0.15      0.25       155\n",
            " southern_us       0.66      0.58      0.61      1288\n",
            "     spanish       0.43      0.21      0.29       299\n",
            "        thai       0.79      0.50      0.61       476\n",
            "  vietnamese       0.54      0.29      0.38       240\n",
            "\n",
            "    accuracy                           0.63     11933\n",
            "   macro avg       0.57      0.50      0.52     11933\n",
            "weighted avg       0.63      0.63      0.62     11933\n",
            "\n",
            "Confusion Matrix:\n",
            "[[  62    1    3    3   13    4    1    1    2   13    2    0    0   17\n",
            "     0    0    4    2    0    0]\n",
            " [  10   69    4    3    5   41    2    6   19   23    0    0    1    9\n",
            "     2    4   47    0    1    0]\n",
            " [   6   11  242    3    3   18    7    6    4   54    5    3    0   33\n",
            "     2    0   50    6    0    0]\n",
            " [   4    5    3  593   31   10    4    6    1   16    2   46   34   18\n",
            "     0    2   15    1    3    6]\n",
            " [   7    5    5   28  125   10    0    7    2   13    2    4    4   11\n",
            "     0    0    9    3    2    1]\n",
            " [  10   24   14    8    7  375   14   19   16  214    1    2    0   22\n",
            "     3    3   47    7    1    0]\n",
            " [   7    2    5    2    7   21  180    6    2   99    0    0    1   10\n",
            "     4    0    6    6    0    0]\n",
            " [   8    4    8    9   15   15   13  667    5   39    3    6    1   60\n",
            "    21    0   14    3    8    0]\n",
            " [   0   14    1    2    3   22    3    3   84   15    0    0    0    5\n",
            "     0    0   34    0    0    0]\n",
            " [  19   24   23   11    8  181   53   41   11 1875    0    1    3   55\n",
            "     5    1   42   29    4    0]\n",
            " [   5    2    8    7   10    7    0   10    5   13   79    0    0   11\n",
            "     0    0   10    1    0    1]\n",
            " [   5    5    4   57    9   16    3   43    0   23    1  214   14   10\n",
            "     0    0    8    1    3    1]\n",
            " [   0    1    4   36   10    1    2    2    1    8    1   30  131    3\n",
            "     0    0    2    1    2    1]\n",
            " [  22   15   21   13   15   50   15   28    7  127    1    5    2 1562\n",
            "     2    0   49    7    4    1]\n",
            " [   3    0    1    5    3   12   12   31    1   46    1    1    0   11\n",
            "    86    0    7    6    0    0]\n",
            " [   7   12    3    1    7   32    4    6    7   20    0    1    1    7\n",
            "     0   24   16    6    1    0]\n",
            " [  20   38   73   14   17  125    6   24   13  118    1    3    2   76\n",
            "     5    3  743    7    0    0]\n",
            " [   9    2   12    3    8   40   11    8    0   96    1    1    0   30\n",
            "     0    1   12   64    0    1]\n",
            " [   8    3    0   49   16    6    2   26    1   16    2   13    9   30\n",
            "     1    1   10    0  236   47]\n",
            " [   8    0    6   38   14    4    2   10    0    2    0   18    9   19\n",
            "     0    0    8    0   32   70]]\n"
          ]
        }
      ]
    },
    {
      "cell_type": "code",
      "source": [
        "#4. Decision Tree\n",
        "\n",
        "import pandas as pd\n",
        "from sklearn.feature_extraction.text import CountVectorizer\n",
        "from sklearn.tree import DecisionTreeClassifier\n",
        "from sklearn.model_selection import train_test_split\n",
        "from sklearn.metrics import accuracy_score, classification_report, confusion_matrix\n",
        "\n",
        "# Load the dataset\n",
        "df = pd.read_json(\"train.json\")\n",
        "\n",
        "# Convert ingredients lists to strings\n",
        "df['ingredients'] = df['ingredients'].apply(lambda x: ' '.join(x))\n",
        "\n",
        "# Feature extraction using CountVectorizer (Bag of Words)\n",
        "vectorizer = CountVectorizer()\n",
        "X = vectorizer.fit_transform(df['ingredients'])\n",
        "\n",
        "# Target variable\n",
        "y = df['cuisine']\n",
        "\n",
        "# Split the data into training and test sets\n",
        "X_train, X_test, y_train, y_test = train_test_split(X, y, random_state=1, test_size=0.3)\n",
        "\n",
        "# Initialize and train the Decision Tree model\n",
        "dt = DecisionTreeClassifier(random_state=1)\n",
        "dt.fit(X_train, y_train)\n",
        "\n",
        "# Make predictions\n",
        "y_pred = dt.predict(X_test)\n",
        "\n",
        "# Evaluate the model\n",
        "accuracy = accuracy_score(y_test, y_pred)\n",
        "report = classification_report(y_test, y_pred)\n",
        "conf_matrix = confusion_matrix(y_test, y_pred)\n",
        "\n",
        "print(f'Accuracy: {accuracy}')\n",
        "print('Classification Report:')\n",
        "print(report)\n",
        "print('Confusion Matrix:')\n",
        "print(conf_matrix)"
      ],
      "metadata": {
        "colab": {
          "base_uri": "https://localhost:8080/"
        },
        "id": "-vo_VbN2tsUo",
        "outputId": "901a0b69-9453-427b-8dba-caeee485a26c"
      },
      "execution_count": 4,
      "outputs": [
        {
          "output_type": "stream",
          "name": "stdout",
          "text": [
            "Accuracy: 0.6378949132657337\n",
            "Classification Report:\n",
            "              precision    recall  f1-score   support\n",
            "\n",
            "   brazilian       0.50      0.43      0.46       128\n",
            "     british       0.33      0.27      0.29       246\n",
            "cajun_creole       0.56      0.55      0.55       453\n",
            "     chinese       0.68      0.69      0.69       800\n",
            "    filipino       0.40      0.36      0.38       238\n",
            "      french       0.43      0.47      0.45       787\n",
            "       greek       0.58      0.54      0.56       358\n",
            "      indian       0.74      0.76      0.75       899\n",
            "       irish       0.38      0.38      0.38       186\n",
            "     italian       0.73      0.75      0.74      2386\n",
            "    jamaican       0.57      0.49      0.52       169\n",
            "    japanese       0.58      0.57      0.57       417\n",
            "      korean       0.57      0.57      0.57       236\n",
            "     mexican       0.81      0.82      0.82      1946\n",
            "    moroccan       0.52      0.48      0.50       226\n",
            "     russian       0.33      0.24      0.28       155\n",
            " southern_us       0.59      0.61      0.60      1288\n",
            "     spanish       0.35      0.38      0.36       299\n",
            "        thai       0.67      0.64      0.66       476\n",
            "  vietnamese       0.45      0.41      0.43       240\n",
            "\n",
            "    accuracy                           0.64     11933\n",
            "   macro avg       0.54      0.52      0.53     11933\n",
            "weighted avg       0.63      0.64      0.64     11933\n",
            "\n",
            "Confusion Matrix:\n",
            "[[  55    1    1    3    5    5    2    4    1   17    2    3    0   14\n",
            "     1    0    5    6    3    0]\n",
            " [   3   66    4    3    1   31    2    9   16   23    3    5    2    6\n",
            "     3    9   51    6    1    2]\n",
            " [   3    6  248    6    5   18    1    5    2   34    3    2    0   30\n",
            "     1    5   74    9    0    1]\n",
            " [   2    3    4  555   34   10    2   11    2   20    2   50   39    6\n",
            "     1    0   15    2   20   22]\n",
            " [   4    3    7   36   85   11    0    7    3   10    3    7    6   19\n",
            "     1    1    9    6   13    7]\n",
            " [   2   22   17    8    5  367   13   12   18  161    6   10    1   18\n",
            "     5   13   74   29    2    4]\n",
            " [   4    1    4    1    2   19  195    7    6   65    1    1    0   16\n",
            "     7    2   15   10    2    0]\n",
            " [   5    6    2   12    3    8    8  680    2   14    4   26    4   36\n",
            "    30    5   13    9   29    3]\n",
            " [   1   16    1    2    0   20    1    2   71   14    3    1    1    8\n",
            "     0    8   35    2    0    0]\n",
            " [   5   21   42   11    5  172   55   14   15 1797    1   10    3   53\n",
            "    14    9   98   56    2    3]\n",
            " [   3    2    5    3    8    4    1   12    0    7   82    3    1   12\n",
            "     1    1   18    3    3    0]\n",
            " [   1    2    1   50    4   15    1   36    2   12    3  236   17    9\n",
            "     3    2   10    2    7    4]\n",
            " [   0    3    2   44    5    2    0    4    0    2    0   17  134    2\n",
            "     0    2    2    2    5   10]\n",
            " [   9    3   11   10    7   25   10   31    5   70    9    3    8 1598\n",
            "    14    4   73   35    9   12]\n",
            " [   0    0    2    3    3    7   14   29    3   16    1    1    0   15\n",
            "   108    0   10    9    2    3]\n",
            " [   2   10    1    2    0   21    3    4    8   23    3    3    1    9\n",
            "     4   37   17    7    0    0]\n",
            " [   5   34   72    9   10   81   12   16   29  113   13    8    2   63\n",
            "     5   10  780   15    5    6]\n",
            " [   2    2   15    5    1   30   12    7    4   49    0    0    1   33\n",
            "    10    1   11  113    1    2]\n",
            " [   1    0    0   28   15    2    2   28    1    5    4   10   10   12\n",
            "     0    0    7    1  307   43]\n",
            " [   4    1    2   21   16    1    0    6    0    4    1   10    7    9\n",
            "     1    3    5    4   47   98]]\n"
          ]
        }
      ]
    },
    {
      "cell_type": "code",
      "source": [
        "#random forest\n",
        "import pandas as pd\n",
        "from sklearn.feature_extraction.text import CountVectorizer\n",
        "from sklearn.ensemble import RandomForestClassifier\n",
        "from sklearn.model_selection import train_test_split\n",
        "from sklearn.metrics import accuracy_score, classification_report, confusion_matrix\n",
        "\n",
        "# Load the dataset\n",
        "df = pd.read_json(\"train.json\")\n",
        "\n",
        "# Convert ingredients lists to strings\n",
        "df['ingredients'] = df['ingredients'].apply(lambda x: ' '.join(x))\n",
        "\n",
        "# Feature extraction using CountVectorizer (Bag of Words)\n",
        "vectorizer = CountVectorizer()\n",
        "X = vectorizer.fit_transform(df['ingredients'])\n",
        "\n",
        "# Target variable\n",
        "y = df['cuisine']\n",
        "\n",
        "# Split the data into training and test sets\n",
        "X_train, X_test, y_train, y_test = train_test_split(X, y, random_state=1, test_size=0.3)\n",
        "\n",
        "# Initialize and train the Random Forest model\n",
        "rf = RandomForestClassifier(random_state=1, n_estimators=100)\n",
        "rf.fit(X_train, y_train)\n",
        "\n",
        "# Make predictions\n",
        "y_pred = rf.predict(X_test)\n",
        "\n",
        "# Evaluate the model\n",
        "accuracy = accuracy_score(y_test, y_pred)\n",
        "report = classification_report(y_test, y_pred)\n",
        "conf_matrix = confusion_matrix(y_test, y_pred)\n",
        "\n",
        "print(f'Accuracy: {accuracy}')\n",
        "print('Classification Report:')\n",
        "print(report)\n",
        "print('Confusion Matrix:')\n",
        "print(conf_matrix)"
      ],
      "metadata": {
        "colab": {
          "base_uri": "https://localhost:8080/"
        },
        "id": "pIcFmbOTt3o6",
        "outputId": "992e0736-b0d5-482a-c4ab-4dc901339b90"
      },
      "execution_count": 5,
      "outputs": [
        {
          "output_type": "stream",
          "name": "stdout",
          "text": [
            "Accuracy: 0.7468365038129556\n",
            "Classification Report:\n",
            "              precision    recall  f1-score   support\n",
            "\n",
            "   brazilian       0.81      0.39      0.53       128\n",
            "     british       0.79      0.23      0.36       246\n",
            "cajun_creole       0.77      0.65      0.70       453\n",
            "     chinese       0.73      0.87      0.79       800\n",
            "    filipino       0.72      0.47      0.57       238\n",
            "      french       0.59      0.55      0.57       787\n",
            "       greek       0.82      0.56      0.66       358\n",
            "      indian       0.80      0.91      0.85       899\n",
            "       irish       0.72      0.37      0.48       186\n",
            "     italian       0.72      0.91      0.80      2386\n",
            "    jamaican       0.92      0.51      0.66       169\n",
            "    japanese       0.82      0.61      0.70       417\n",
            "      korean       0.90      0.69      0.78       236\n",
            "     mexican       0.83      0.92      0.87      1946\n",
            "    moroccan       0.90      0.64      0.75       226\n",
            "     russian       0.84      0.28      0.42       155\n",
            " southern_us       0.64      0.76      0.70      1288\n",
            "     spanish       0.71      0.30      0.42       299\n",
            "        thai       0.78      0.76      0.77       476\n",
            "  vietnamese       0.85      0.42      0.57       240\n",
            "\n",
            "    accuracy                           0.75     11933\n",
            "   macro avg       0.78      0.59      0.65     11933\n",
            "weighted avg       0.75      0.75      0.73     11933\n",
            "\n",
            "Confusion Matrix:\n",
            "[[  50    0    2    1    2    3    0    7    0   22    1    0    0   23\n",
            "     0    0    8    3    6    0]\n",
            " [   0   57    1    2    1   47    1    9   11   27    0    1    0    3\n",
            "     2    0   83    0    1    0]\n",
            " [   0    0  293    2    0   11    1    1    0   47    1    0    0   30\n",
            "     0    0   66    1    0    0]\n",
            " [   0    0    1  694   10    3    1    6    0   11    0   17    9   15\n",
            "     0    1   19    0    9    4]\n",
            " [   2    0    5   48  111    6    0    9    0    9    1    2    0   20\n",
            "     0    0   15    1    8    1]\n",
            " [   0    4    3    4    2  431    1    6    6  231    0    3    0   12\n",
            "     1    0   79    3    0    1]\n",
            " [   0    0    2    2    1   11  199    5    0  119    0    0    0    5\n",
            "     3    1    9    1    0    0]\n",
            " [   0    0    0    1    2    2    4  820    0   13    1    2    0   27\n",
            "     5    0   15    1    6    0]\n",
            " [   0    5    0    2    0   23    2    3   68   23    0    0    0    4\n",
            "     0    0   56    0    0    0]\n",
            " [   0    1    5    4    0   77   17   13    3 2166    0    1    0   31\n",
            "     2    2   55    7    1    1]\n",
            " [   0    1    4    6    4    5    0   12    0    4   87    1    0   20\n",
            "     0    1   21    1    2    0]\n",
            " [   1    0    1   55    1    5    4   45    0   16    0  255    5    6\n",
            "     0    0   15    0    8    0]\n",
            " [   0    0    0   39    2    0    0    1    0    2    0   16  163    5\n",
            "     0    0    5    0    2    1]\n",
            " [   5    1    1    6    0   19    2    9    0   53    1    1    1 1796\n",
            "     0    0   42    9    0    0]\n",
            " [   0    0    0    1    0    4    3   23    1   24    0    0    0   15\n",
            "   145    1    7    1    0    1]\n",
            " [   1    0    0    0    0   23    2    1    4   28    2    2    0   14\n",
            "     0   43   32    3    0    0]\n",
            " [   3    3   54    5    6   43    2    9    2   97    1    2    1   73\n",
            "     0    1  980    5    1    0]\n",
            " [   0    0    9    4    3   19    2    7    0  109    0    0    0   36\n",
            "     3    1   15   90    1    0]\n",
            " [   0    0    0   41    4    2    1   24    0    3    0    3    2   19\n",
            "     0    0    6    0  362    9]\n",
            " [   0    0    0   33    5    1    0   10    0    4    0    6    1   15\n",
            "     0    0    2    1   60  102]]\n"
          ]
        }
      ]
    },
    {
      "cell_type": "code",
      "source": [
        "# gradient\n",
        "import pandas as pd\n",
        "from sklearn.feature_extraction.text import CountVectorizer\n",
        "from sklearn.ensemble import GradientBoostingClassifier\n",
        "from sklearn.model_selection import train_test_split\n",
        "from sklearn.metrics import accuracy_score, classification_report, confusion_matrix\n",
        "\n",
        "# Load the dataset\n",
        "df = pd.read_json(\"train.json\")\n",
        "\n",
        "# Convert ingredients lists to strings\n",
        "df['ingredients'] = df['ingredients'].apply(lambda x: ' '.join(x))\n",
        "\n",
        "# Feature extraction using CountVectorizer (Bag of Words)\n",
        "vectorizer = CountVectorizer()\n",
        "X = vectorizer.fit_transform(df['ingredients'])\n",
        "\n",
        "# Target variable\n",
        "y = df['cuisine']\n",
        "\n",
        "# Split the data into training and test sets\n",
        "X_train, X_test, y_train, y_test = train_test_split(X, y, random_state=1, test_size=0.3)\n",
        "\n",
        "# Initialize and train the Gradient Boosting model\n",
        "gb = GradientBoostingClassifier(random_state=1)\n",
        "gb.fit(X_train, y_train)\n",
        "\n",
        "# Make predictions\n",
        "y_pred = gb.predict(X_test)\n",
        "\n",
        "# Evaluate the model\n",
        "accuracy = accuracy_score(y_test, y_pred)\n",
        "report = classification_report(y_test, y_pred)\n",
        "conf_matrix = confusion_matrix(y_test, y_pred)\n",
        "\n",
        "print(f'Accuracy: {accuracy}')\n",
        "print('Classification Report:')\n",
        "print(report)\n",
        "print('Confusion Matrix:')\n",
        "print(conf_matrix)"
      ],
      "metadata": {
        "colab": {
          "base_uri": "https://localhost:8080/"
        },
        "id": "Vq9IksUDuAKq",
        "outputId": "05c5e145-8ecc-4e80-ac11-ac39228fdb04"
      },
      "execution_count": 6,
      "outputs": [
        {
          "output_type": "stream",
          "name": "stdout",
          "text": [
            "Accuracy: 0.7456632866839856\n",
            "Classification Report:\n",
            "              precision    recall  f1-score   support\n",
            "\n",
            "   brazilian       0.71      0.51      0.59       128\n",
            "     british       0.64      0.30      0.41       246\n",
            "cajun_creole       0.75      0.68      0.71       453\n",
            "     chinese       0.77      0.82      0.79       800\n",
            "    filipino       0.77      0.40      0.52       238\n",
            "      french       0.58      0.55      0.56       787\n",
            "       greek       0.78      0.66      0.72       358\n",
            "      indian       0.85      0.85      0.85       899\n",
            "       irish       0.54      0.49      0.51       186\n",
            "     italian       0.74      0.87      0.80      2386\n",
            "    jamaican       0.83      0.66      0.74       169\n",
            "    japanese       0.84      0.63      0.72       417\n",
            "      korean       0.80      0.69      0.74       236\n",
            "     mexican       0.89      0.90      0.90      1946\n",
            "    moroccan       0.86      0.71      0.78       226\n",
            "     russian       0.67      0.43      0.52       155\n",
            " southern_us       0.58      0.76      0.66      1288\n",
            "     spanish       0.65      0.43      0.52       299\n",
            "        thai       0.79      0.76      0.77       476\n",
            "  vietnamese       0.68      0.53      0.59       240\n",
            "\n",
            "    accuracy                           0.75     11933\n",
            "   macro avg       0.74      0.63      0.67     11933\n",
            "weighted avg       0.75      0.75      0.74     11933\n",
            "\n",
            "Confusion Matrix:\n",
            "[[  65    0    2    0    0    4    1    2    0   17    1    0    0   13\n",
            "     0    0   16    4    3    0]\n",
            " [   0   73    0    0    1   23    2    7   21   27    0    0    0    1\n",
            "     0    3   83    2    2    1]\n",
            " [   1    2  306    2    1   15    2    1    1   27    2    1    0   11\n",
            "     1    2   72    6    0    0]\n",
            " [   1    0    1  657    6    5    1    2    0   31    2   16   15    8\n",
            "     0    0   30    0   11   14]\n",
            " [   1    0    2   39   95    8    0    1    3   20    0    1    2   13\n",
            "     0    2   27    2   12   10]\n",
            " [   5    5    5    3    1  432    3    6   16  183    2    3    0    7\n",
            "     2    6   94   14    0    0]\n",
            " [   0    0    0    2    0   12  236    8    2   76    0    0    0    3\n",
            "     3    3   11    1    1    0]\n",
            " [   4    0    0    2    0    1    6  764    3   19    3   10    1   36\n",
            "    13    4   26    0    5    2]\n",
            " [   0   12    2    0    0   13    3    3   91   10    0    0    1    0\n",
            "     0    1   49    1    0    0]\n",
            " [   1    4   10    3    0  102   30    9   12 2070    4    0    1   17\n",
            "     3    2  101   14    3    0]\n",
            " [   0    1    2    2    4    6    0    9    1    5  111    1    0    7\n",
            "     0    0   17    0    2    1]\n",
            " [   1    0    2   44    2    6    1   37    0   20    0  261    8    4\n",
            "     0    0   23    0    6    2]\n",
            " [   0    0    2   38    1    2    0    0    1    7    0    9  162    2\n",
            "     0    0    6    0    2    4]\n",
            " [   4    0    1    8    7   15    4    6    1   68    0    0    0 1757\n",
            "     3    0   62   10    0    0]\n",
            " [   0    1    0    1    0    1    4   15    0   22    0    1    1   11\n",
            "   161    2    4    2    0    0]\n",
            " [   0    3    2    0    0   16    1    0    3   28    0    0    0    2\n",
            "     0   66   30    4    0    0]\n",
            " [   5   11   67    4    0   45    5    4   11   96    7    2    0   38\n",
            "     1    5  975    8    4    0]\n",
            " [   1    1    6    1    1   35    2    4    3   73    1    0    0   22\n",
            "     0    1   20  128    0    0]\n",
            " [   2    0    0   22    4    2    1   20    0    2    0    4    7   14\n",
            "     1    1   10    0  362   24]\n",
            " [   0    1    0   26    1    4    0    3    0    6    0    1    4    9\n",
            "     0    0   12    0   47  126]]\n"
          ]
        }
      ]
    },
    {
      "cell_type": "markdown",
      "source": [
        "# **data engineering**"
      ],
      "metadata": {
        "id": "6y7MxtTNuKNA"
      }
    },
    {
      "cell_type": "code",
      "source": [
        "import pandas as pd\n",
        "\n",
        "df = pd.read_json(\"train.json\")\n",
        "\n",
        "X = df.drop('id', axis=1)\n",
        "X = X.drop('cuisine', axis=1)\n",
        "Y = df['cuisine']\n",
        "\n",
        "print(X)\n",
        "print(Y)\n"
      ],
      "metadata": {
        "colab": {
          "base_uri": "https://localhost:8080/"
        },
        "id": "pIIKc6l0uJy1",
        "outputId": "d4bf560a-e4c6-4c1f-eb77-9a42946f485b"
      },
      "execution_count": 7,
      "outputs": [
        {
          "output_type": "stream",
          "name": "stdout",
          "text": [
            "                                             ingredients\n",
            "0      [romaine lettuce, black olives, grape tomatoes...\n",
            "1      [plain flour, ground pepper, salt, tomatoes, g...\n",
            "2      [eggs, pepper, salt, mayonaise, cooking oil, g...\n",
            "3                    [water, vegetable oil, wheat, salt]\n",
            "4      [black pepper, shallots, cornflour, cayenne pe...\n",
            "...                                                  ...\n",
            "39769  [light brown sugar, granulated sugar, butter, ...\n",
            "39770  [KRAFT Zesty Italian Dressing, purple onion, b...\n",
            "39771  [eggs, citrus fruit, raisins, sourdough starte...\n",
            "39772  [boneless chicken skinless thigh, minced garli...\n",
            "39773  [green chile, jalapeno chilies, onions, ground...\n",
            "\n",
            "[39774 rows x 1 columns]\n",
            "0              greek\n",
            "1        southern_us\n",
            "2           filipino\n",
            "3             indian\n",
            "4             indian\n",
            "            ...     \n",
            "39769          irish\n",
            "39770        italian\n",
            "39771          irish\n",
            "39772        chinese\n",
            "39773        mexican\n",
            "Name: cuisine, Length: 39774, dtype: object\n"
          ]
        }
      ]
    },
    {
      "cell_type": "code",
      "source": [
        "# Feature Selection 1\n",
        "\n",
        "import pandas as pd\n",
        "import numpy as np\n",
        "from sklearn.feature_extraction.text import CountVectorizer\n",
        "from sklearn.feature_selection import SelectKBest, chi2\n",
        "from sklearn.impute import SimpleImputer\n",
        "from sklearn.preprocessing import OneHotEncoder\n",
        "\n",
        "# Load the dataset\n",
        "df = pd.read_json(\"train.json\")\n",
        "\n",
        "# Convert ingredients lists to strings\n",
        "df['ingredients'] = df['ingredients'].apply(lambda x: ' '.join(x))\n",
        "\n",
        "# Feature extraction using CountVectorizer (Bag of Words)\n",
        "vectorizer = CountVectorizer()\n",
        "X = vectorizer.fit_transform(df['ingredients'])\n",
        "\n",
        "# Target variable\n",
        "Y = df['cuisine']\n",
        "\n",
        "# Since CountVectorizer already converts the text to numeric, we don't need imputation or encoding for text\n",
        "# However, we should still ensure Y is processed correctly if it's categorical\n",
        "\n",
        "# Convert Y to numeric labels if necessary\n",
        "# This step is not needed if Y is already in the correct format (str)\n",
        "# But we'll ensure consistency by using label encoding\n",
        "from sklearn.preprocessing import LabelEncoder\n",
        "label_encoder = LabelEncoder()\n",
        "Y_encoded = label_encoder.fit_transform(Y)\n",
        "\n",
        "# Perform feature selection with chi2\n",
        "bestfeatures = SelectKBest(score_func=chi2, k='all')\n",
        "fit = bestfeatures.fit(X, Y_encoded)\n",
        "\n",
        "# Since X is in sparse matrix format after CountVectorizer, converting fit.scores_ to dense array\n",
        "dfscores = pd.DataFrame(fit.scores_)\n",
        "dfcolumns = pd.DataFrame(vectorizer.get_feature_names_out())  # Use the feature names from CountVectorizer\n",
        "\n",
        "# Combine the scores with the column names\n",
        "featuresScores = pd.concat([dfcolumns, dfscores], axis=1)\n",
        "featuresScores.columns = ['Specs', 'Score']\n",
        "\n",
        "print(featuresScores)\n"
      ],
      "metadata": {
        "colab": {
          "base_uri": "https://localhost:8080/"
        },
        "id": "K9BlJY6budQK",
        "outputId": "f75e691c-bb64-474b-d523-e226739e46ca"
      },
      "execution_count": 8,
      "outputs": [
        {
          "output_type": "stream",
          "name": "stdout",
          "text": [
            "          Specs       Score\n",
            "0            00    4.074509\n",
            "1            10   12.139760\n",
            "2           100   32.850213\n",
            "3            14    9.784263\n",
            "4            15   15.534017\n",
            "...         ...         ...\n",
            "3005      zesty   30.439063\n",
            "3006  zinfandel   51.941642\n",
            "3007       ziti  130.624621\n",
            "3008   zucchini  434.462793\n",
            "3009     épices   20.238690\n",
            "\n",
            "[3010 rows x 2 columns]\n"
          ]
        }
      ]
    },
    {
      "cell_type": "code",
      "source": [
        "#Feature Selection 2\n",
        "\n",
        "import pandas as pd\n",
        "import numpy as np\n",
        "from sklearn.feature_extraction.text import CountVectorizer\n",
        "from sklearn.ensemble import ExtraTreesClassifier\n",
        "import matplotlib.pyplot as plt\n",
        "\n",
        "# Load the dataset\n",
        "df = pd.read_json(\"train.json\")\n",
        "\n",
        "# Convert ingredients lists to strings\n",
        "df['ingredients'] = df['ingredients'].apply(lambda x: ' '.join(x))\n",
        "\n",
        "# Feature extraction using CountVectorizer (Bag of Words)\n",
        "vectorizer = CountVectorizer()\n",
        "X = vectorizer.fit_transform(df['ingredients'])\n",
        "\n",
        "# Target variable\n",
        "Y = df['cuisine']\n",
        "\n",
        "# Convert Y to numeric labels if necessary\n",
        "from sklearn.preprocessing import LabelEncoder\n",
        "label_encoder = LabelEncoder()\n",
        "Y_encoded = label_encoder.fit_transform(Y)\n",
        "\n",
        "# Fit the ExtraTreesClassifier model\n",
        "model = ExtraTreesClassifier()\n",
        "model.fit(X, Y_encoded)\n",
        "\n",
        "# Get feature importances\n",
        "feature_importances = model.feature_importances_\n",
        "# Create a pandas Series with feature importances\n",
        "feat_importance = pd.Series(feature_importances, index=vectorizer.get_feature_names_out())\n",
        "\n",
        "# Plot the top 10 most important features\n",
        "top_n = 10\n",
        "feat_importance.nlargest(top_n).plot(kind='bar', figsize=(10, 6))\n",
        "plt.title('Top {} Feature Importances'.format(top_n))\n",
        "plt.xlabel('Features')\n",
        "plt.ylabel('Importance Score')\n",
        "plt.show()"
      ],
      "metadata": {
        "colab": {
          "base_uri": "https://localhost:8080/",
          "height": 620
        },
        "id": "ZrEIIT2Uus_E",
        "outputId": "89a62920-6e16-4865-9574-fbf19401d876"
      },
      "execution_count": 9,
      "outputs": [
        {
          "output_type": "display_data",
          "data": {
            "text/plain": [
              "<Figure size 1000x600 with 1 Axes>"
            ],
            "image/png": "[encoded data removed]"
          },
          "metadata": {}
        }
      ]
    },
    {
      "cell_type": "code",
      "source": [
        "#Numerical to Categorical\n",
        "\n",
        "import pandas as pd\n",
        "from sklearn.preprocessing import LabelEncoder\n",
        "\n",
        "# Load the dataset\n",
        "df = pd.read_json(\"train.json\")\n",
        "\n",
        "df['num_1'] = pd.Series([1000, 2000, 3000, 4000, 5000, 6000, 7000, 8000, 9000, 10000])\n",
        "df['num_2'] = pd.Series([1, 2, 3, 4, 5, 6, 7, 8, 9, 10])\n",
        "\n",
        "# Convert these numerical columns to categorical\n",
        "df['num_1_cat'] = pd.cut(df['num_1'], 3, labels=['low', 'medium', 'high'])\n",
        "df['num_2_cat'] = pd.cut(df['num_2'], 3, labels=['low', 'medium', 'high'])\n",
        "\n",
        "# Drop original numerical columns and retain the categorical ones\n",
        "df = df.drop(['num_1', 'num_2'], axis=1)\n",
        "\n",
        "# Print the updated dataframe\n",
        "print(df)\n",
        "\n",
        "# Prepare the features and target\n",
        "X = df.drop(['id', 'cuisine'], axis=1)\n",
        "Y = df['cuisine']\n",
        "\n",
        "# Encode the target variable using LabelEncoder\n",
        "le = LabelEncoder()\n",
        "Y = le.fit_transform(Y)\n",
        "\n",
        "# Print the transformed target variable\n",
        "print(Y)\n"
      ],
      "metadata": {
        "colab": {
          "base_uri": "https://localhost:8080/"
        },
        "id": "IAAv7vhju1o8",
        "outputId": "f4bff7b6-83d6-4bb6-99cc-2fbf3536b60b"
      },
      "execution_count": 10,
      "outputs": [
        {
          "output_type": "stream",
          "name": "stdout",
          "text": [
            "          id      cuisine                                        ingredients  \\\n",
            "0      10259        greek  [romaine lettuce, black olives, grape tomatoes...   \n",
            "1      25693  southern_us  [plain flour, ground pepper, salt, tomatoes, g...   \n",
            "2      20130     filipino  [eggs, pepper, salt, mayonaise, cooking oil, g...   \n",
            "3      22213       indian                [water, vegetable oil, wheat, salt]   \n",
            "4      13162       indian  [black pepper, shallots, cornflour, cayenne pe...   \n",
            "...      ...          ...                                                ...   \n",
            "39769  29109        irish  [light brown sugar, granulated sugar, butter, ...   \n",
            "39770  11462      italian  [KRAFT Zesty Italian Dressing, purple onion, b...   \n",
            "39771   2238        irish  [eggs, citrus fruit, raisins, sourdough starte...   \n",
            "39772  41882      chinese  [boneless chicken skinless thigh, minced garli...   \n",
            "39773   2362      mexican  [green chile, jalapeno chilies, onions, ground...   \n",
            "\n",
            "      num_1_cat num_2_cat  \n",
            "0           low       low  \n",
            "1           low       low  \n",
            "2           low       low  \n",
            "3           low       low  \n",
            "4        medium    medium  \n",
            "...         ...       ...  \n",
            "39769       NaN       NaN  \n",
            "39770       NaN       NaN  \n",
            "39771       NaN       NaN  \n",
            "39772       NaN       NaN  \n",
            "39773       NaN       NaN  \n",
            "\n",
            "[39774 rows x 5 columns]\n",
            "[ 6 16  4 ...  8  3 13]\n"
          ]
        }
      ]
    },
    {
      "cell_type": "code",
      "source": [
        "#Categorical to Numerical\n",
        "\n",
        "from sklearn.preprocessing import OneHotEncoder\n",
        "\n",
        "df['cuisine'] = df['cuisine'].astype(str)\n",
        "encoder = OneHotEncoder(handle_unknown='ignore')\n",
        "encoded_features = encoder.fit_transform(df[['cuisine']])\n",
        "\n",
        "encoded_features_df = pd.DataFrame(encoded_features.toarray(), columns=encoder.get_feature_names_out())\n",
        "df = df.join(encoded_features_df).drop('cuisine', axis=1)\n",
        "\n",
        "print(df.head())\n"
      ],
      "metadata": {
        "colab": {
          "base_uri": "https://localhost:8080/"
        },
        "id": "JQjJYGgyu5uE",
        "outputId": "c2825ca8-0979-4838-a797-aa5b2a83fa05"
      },
      "execution_count": 11,
      "outputs": [
        {
          "output_type": "stream",
          "name": "stdout",
          "text": [
            "      id                                        ingredients num_1_cat  \\\n",
            "0  10259  [romaine lettuce, black olives, grape tomatoes...       low   \n",
            "1  25693  [plain flour, ground pepper, salt, tomatoes, g...       low   \n",
            "2  20130  [eggs, pepper, salt, mayonaise, cooking oil, g...       low   \n",
            "3  22213                [water, vegetable oil, wheat, salt]       low   \n",
            "4  13162  [black pepper, shallots, cornflour, cayenne pe...    medium   \n",
            "\n",
            "  num_2_cat  cuisine_brazilian  cuisine_british  cuisine_cajun_creole  \\\n",
            "0       low                0.0              0.0                   0.0   \n",
            "1       low                0.0              0.0                   0.0   \n",
            "2       low                0.0              0.0                   0.0   \n",
            "3       low                0.0              0.0                   0.0   \n",
            "4    medium                0.0              0.0                   0.0   \n",
            "\n",
            "   cuisine_chinese  cuisine_filipino  cuisine_french  ...  cuisine_jamaican  \\\n",
            "0              0.0               0.0             0.0  ...               0.0   \n",
            "1              0.0               0.0             0.0  ...               0.0   \n",
            "2              0.0               1.0             0.0  ...               0.0   \n",
            "3              0.0               0.0             0.0  ...               0.0   \n",
            "4              0.0               0.0             0.0  ...               0.0   \n",
            "\n",
            "   cuisine_japanese  cuisine_korean  cuisine_mexican  cuisine_moroccan  \\\n",
            "0               0.0             0.0              0.0               0.0   \n",
            "1               0.0             0.0              0.0               0.0   \n",
            "2               0.0             0.0              0.0               0.0   \n",
            "3               0.0             0.0              0.0               0.0   \n",
            "4               0.0             0.0              0.0               0.0   \n",
            "\n",
            "   cuisine_russian  cuisine_southern_us  cuisine_spanish  cuisine_thai  \\\n",
            "0              0.0                  0.0              0.0           0.0   \n",
            "1              0.0                  1.0              0.0           0.0   \n",
            "2              0.0                  0.0              0.0           0.0   \n",
            "3              0.0                  0.0              0.0           0.0   \n",
            "4              0.0                  0.0              0.0           0.0   \n",
            "\n",
            "   cuisine_vietnamese  \n",
            "0                 0.0  \n",
            "1                 0.0  \n",
            "2                 0.0  \n",
            "3                 0.0  \n",
            "4                 0.0  \n",
            "\n",
            "[5 rows x 24 columns]\n"
          ]
        }
      ]
    },
    {
      "cell_type": "code",
      "source": [
        "print(df.isnull().sum())"
      ],
      "metadata": {
        "colab": {
          "base_uri": "https://localhost:8080/"
        },
        "id": "F8x8g4LJu842",
        "outputId": "9bba4741-320d-43e6-8a81-61a41d2da1c0"
      },
      "execution_count": 13,
      "outputs": [
        {
          "output_type": "stream",
          "name": "stdout",
          "text": [
            "id             0\n",
            "cuisine        0\n",
            "ingredients    0\n",
            "dtype: int64\n"
          ]
        }
      ]
    },
    {
      "cell_type": "code",
      "source": [
        "import pandas as pd\n",
        "\n",
        "# Load the dataset\n",
        "df = pd.read_json(\"train.json\")\n",
        "\n",
        "# Print the count of missing values for each column\n",
        "print(\"Missing values count before imputation:\")\n",
        "print(df.isnull().sum())\n",
        "\n",
        "# Check if 'id' is in the DataFrame columns\n",
        "if 'id' in df.columns:\n",
        "    # Imputing missing values in 'id' column with mode\n",
        "    df['id'].fillna(df['id'].mode()[0], inplace=True)\n",
        "else:\n",
        "    print(\"Column 'id' not found in the DataFrame.\")\n",
        "\n",
        "# Check if 'cuisine' is in the DataFrame columns\n",
        "if 'cuisine' in df.columns:\n",
        "    # Imputing missing values in 'cuisine' column with mode\n",
        "    df['cuisine'].fillna(df['cuisine'].mode()[0], inplace=True)\n",
        "else:\n",
        "    print(\"Column 'cuisine' not found in the DataFrame.\")\n",
        "\n",
        "# Check if 'ingredients' is in the DataFrame columns\n",
        "if 'ingredients' in df.columns:\n",
        "    # Imputing missing values in 'ingredients' column with 'unknown'\n",
        "    df['ingredients'].fillna('unknown', inplace=True)\n",
        "else:\n",
        "    print(\"Column 'ingredients' not found in the DataFrame.\")\n",
        "\n",
        "# Print the count of missing values after imputation\n",
        "print(\"Missing values count after imputation:\")\n",
        "print(df.isnull().sum())\n",
        "\n",
        "# Print the updated DataFrame\n",
        "print(\"\\nUpdated DataFrame after filling missing values:\")\n",
        "print(df.head())\n"
      ],
      "metadata": {
        "colab": {
          "base_uri": "https://localhost:8080/"
        },
        "id": "XdPQ8LQCvAXD",
        "outputId": "3e0ab405-bedf-482d-b1dc-c445bde6fc64"
      },
      "execution_count": 12,
      "outputs": [
        {
          "output_type": "stream",
          "name": "stdout",
          "text": [
            "Missing values count before imputation:\n",
            "id             0\n",
            "cuisine        0\n",
            "ingredients    0\n",
            "dtype: int64\n",
            "Missing values count after imputation:\n",
            "id             0\n",
            "cuisine        0\n",
            "ingredients    0\n",
            "dtype: int64\n",
            "\n",
            "Updated DataFrame after filling missing values:\n",
            "      id      cuisine                                        ingredients\n",
            "0  10259        greek  [romaine lettuce, black olives, grape tomatoes...\n",
            "1  25693  southern_us  [plain flour, ground pepper, salt, tomatoes, g...\n",
            "2  20130     filipino  [eggs, pepper, salt, mayonaise, cooking oil, g...\n",
            "3  22213       indian                [water, vegetable oil, wheat, salt]\n",
            "4  13162       indian  [black pepper, shallots, cornflour, cayenne pe...\n"
          ]
        }
      ]
    },
    {
      "cell_type": "code",
      "source": [
        "#Oversampling and Under Sampling\n",
        "\n",
        "import pandas as pd\n",
        "from collections import Counter\n",
        "from sklearn.feature_extraction.text import CountVectorizer\n",
        "from sklearn.preprocessing import LabelEncoder\n",
        "from imblearn.over_sampling import RandomOverSampler, SMOTE\n",
        "from imblearn.under_sampling import RandomUnderSampler\n",
        "\n",
        "# Load the dataset\n",
        "df = pd.read_json(\"train.json\")\n",
        "\n",
        "# Print the count of missing values for each column\n",
        "print(\"Missing values count before imputation:\")\n",
        "print(df.isnull().sum())\n",
        "\n",
        "# Handle missing values\n",
        "df['id'].fillna(df['id'].mode()[0], inplace=True)\n",
        "df['cuisine'].fillna(df['cuisine'].mode()[0], inplace=True)\n",
        "df['ingredients'].fillna('unknown', inplace=True)\n",
        "\n",
        "# Combine the ingredients list into a single string for each row\n",
        "df['ingredients'] = df['ingredients'].apply(lambda x: ' '.join(x))\n",
        "\n",
        "# Vectorize the ingredients column\n",
        "vectorizer = CountVectorizer()\n",
        "X = vectorizer.fit_transform(df['ingredients'])\n",
        "\n",
        "# Encode the target variable\n",
        "le = LabelEncoder()\n",
        "Y = le.fit_transform(df['cuisine'])\n",
        "\n",
        "# Print the class distribution before resampling\n",
        "print(\"Class distribution before resampling:\", Counter(Y))\n",
        "\n",
        "# Apply Random OverSampling\n",
        "ros = RandomOverSampler(random_state=0)\n",
        "X_ros, Y_ros = ros.fit_resample(X, Y)\n",
        "print(\"Class distribution after Random OverSampling:\", Counter(Y_ros))\n",
        "# Apply SMOTE (Synthetic Minority Oversampling Technique)\n",
        "sms = SMOTE(random_state=0)\n",
        "X_sms, Y_sms = sms.fit_resample(X, Y)\n",
        "print(\"Class distribution after SMOTE:\", Counter(Y_sms))\n",
        "\n",
        "# Apply Random UnderSampling\n",
        "rus = RandomUnderSampler(random_state=0)\n",
        "X_rus, Y_rus = rus.fit_resample(X, Y)\n",
        "print(\"Class distribution after Random UnderSampling:\", Counter(Y_rus))"
      ],
      "metadata": {
        "colab": {
          "base_uri": "https://localhost:8080/"
        },
        "id": "Mlz_i1mavFGj",
        "outputId": "eedda9e9-0f4e-4617-92be-af3972bc7c9b"
      },
      "execution_count": 14,
      "outputs": [
        {
          "output_type": "stream",
          "name": "stdout",
          "text": [
            "Missing values count before imputation:\n",
            "id             0\n",
            "cuisine        0\n",
            "ingredients    0\n",
            "dtype: int64\n",
            "Class distribution before resampling: Counter({9: 7838, 13: 6438, 16: 4320, 7: 3003, 3: 2673, 5: 2646, 2: 1546, 18: 1539, 11: 1423, 6: 1175, 17: 989, 12: 830, 19: 825, 14: 821, 1: 804, 4: 755, 8: 667, 10: 526, 15: 489, 0: 467})\n",
            "Class distribution after Random OverSampling: Counter({6: 7838, 16: 7838, 4: 7838, 7: 7838, 10: 7838, 17: 7838, 9: 7838, 13: 7838, 3: 7838, 1: 7838, 18: 7838, 19: 7838, 2: 7838, 0: 7838, 5: 7838, 11: 7838, 8: 7838, 12: 7838, 14: 7838, 15: 7838})\n",
            "Class distribution after SMOTE: Counter({6: 7838, 16: 7838, 4: 7838, 7: 7838, 10: 7838, 17: 7838, 9: 7838, 13: 7838, 3: 7838, 1: 7838, 18: 7838, 19: 7838, 2: 7838, 0: 7838, 5: 7838, 11: 7838, 8: 7838, 12: 7838, 14: 7838, 15: 7838})\n",
            "Class distribution after Random UnderSampling: Counter({0: 467, 1: 467, 2: 467, 3: 467, 4: 467, 5: 467, 6: 467, 7: 467, 8: 467, 9: 467, 10: 467, 11: 467, 12: 467, 13: 467, 14: 467, 15: 467, 16: 467, 17: 467, 18: 467, 19: 467})\n"
          ]
        }
      ]
    },
    {
      "cell_type": "code",
      "source": [
        "#Identifying Outliers by ploting\n",
        "\n",
        "from matplotlib import pyplot as plt\n",
        "import seaborn as sns\n",
        "sns.boxplot(df['cuisine'])\n",
        "plt.show()\n",
        ""
      ],
      "metadata": {
        "colab": {
          "base_uri": "https://localhost:8080/",
          "height": 411
        },
        "id": "6WgT6LH4vPDy",
        "outputId": "3ebf9d6f-0d69-46da-8ba6-373b875e98e5"
      },
      "execution_count": 15,
      "outputs": [
        {
          "output_type": "display_data",
          "data": {
            "text/plain": [
              "<Figure size 640x480 with 1 Axes>"
            ],
            "image/png": "[encoded data removed]"
          },
          "metadata": {}
        }
      ]
    },
    {
      "cell_type": "code",
      "source": [
        "#Dealing with Outliers using Interquantile Range\n",
        "\n",
        "# Convert 'cuisine' to numeric, coercing errors to NaN\n",
        "df['cuisine'] = pd.to_numeric(df['cuisine'], errors='coerce')\n",
        "\n",
        "# Drop rows with NaN in 'cuisine' if needed\n",
        "df.dropna(subset=['cuisine'], inplace=True)\n",
        "\n",
        "print(df['cuisine'])\n",
        "Q1 = df['cuisine'].quantile(0.25)\n",
        "Q3 = df['cuisine'].quantile(0.75)\n",
        "\n",
        "IQR = Q3 - Q1\n",
        "print(IQR)\n",
        "\n",
        "upper = Q3 + 1.5*IQR\n",
        "lower = Q1 - 1.5*IQR\n",
        "\n",
        "print(upper)\n",
        "print(lower)\n",
        "\n",
        "out1=df[df['cuisine'] < lower].values\n",
        "out2=df[df['cuisine'] > upper].values\n",
        "\n",
        "df['cuisine'].replace(out1,lower,inplace=True)\n",
        "df['cuisine'].replace(out2,upper,inplace=True)\n",
        "\n",
        "print(df['cuisine'])"
      ],
      "metadata": {
        "colab": {
          "base_uri": "https://localhost:8080/"
        },
        "id": "aEIvdEDhvZPY",
        "outputId": "ffcadf0b-c606-492e-de6f-6ff5c664b0b1"
      },
      "execution_count": 16,
      "outputs": [
        {
          "output_type": "stream",
          "name": "stdout",
          "text": [
            "Series([], Name: cuisine, dtype: float64)\n",
            "nan\n",
            "nan\n",
            "nan\n",
            "Series([], Name: cuisine, dtype: float64)\n"
          ]
        }
      ]
    },
    {
      "cell_type": "code",
      "source": [
        "import pandas as pd\n",
        "\n",
        "# Ensure 'ingredients' is numeric\n",
        "df['ingredients'] = pd.to_numeric(df['ingredients'], errors='coerce')\n",
        "\n",
        "# Specify the column name you want to print\n",
        "print(df['ingredients']) # Replace 'ingredients' with the actual column name\n",
        "\n",
        "# Calculate Q1 (25th percentile) and Q3 (75th percentile)\n",
        "Q1 = df['ingredients'].quantile(0.25)\n",
        "Q3 = df['ingredients'].quantile(0.75)\n",
        "\n",
        "# Compute IQR\n",
        "IQR = Q3 - Q1\n",
        "print(\"IQR:\", IQR)\n",
        "\n",
        "# Determine upper and lower bounds for outliers\n",
        "upper = Q3 + 1.5 * IQR\n",
        "lower = Q1 - 1.5 * IQR\n",
        "\n",
        "print(\"Upper bound:\", upper)\n",
        "print(\"Lower bound:\", lower)\n",
        "\n",
        "# Identify outliers\n",
        "out1 = df['ingredients'] < lower\n",
        "out2 = df['ingredients'] > upper\n",
        "\n",
        "# Replace outliers with respective bounds\n",
        "df.loc[out1, 'ingredients'] = lower\n",
        "df.loc[out2, 'ingredients'] = upper\n",
        "\n",
        "print(df['ingredients'])\n",
        ""
      ],
      "metadata": {
        "colab": {
          "base_uri": "https://localhost:8080/"
        },
        "id": "XPJVbiA5vdTZ",
        "outputId": "5eb8c40c-cc0d-46d1-daed-b55a8d273834"
      },
      "execution_count": 17,
      "outputs": [
        {
          "output_type": "stream",
          "name": "stdout",
          "text": [
            "Series([], Name: ingredients, dtype: int64)\n",
            "IQR: nan\n",
            "Upper bound: nan\n",
            "Lower bound: nan\n",
            "Series([], Name: ingredients, dtype: int64)\n"
          ]
        }
      ]
    },
    {
      "cell_type": "code",
      "source": [
        "#PCA\n",
        "\n",
        "import pandas as pd\n",
        "from sklearn.decomposition import PCA\n",
        "from sklearn.linear_model import LogisticRegression\n",
        "from sklearn.model_selection import train_test_split\n",
        "from sklearn.metrics import accuracy_score\n",
        "from sklearn.feature_extraction.text import CountVectorizer\n",
        "from sklearn.preprocessing import LabelEncoder\n",
        "from sklearn.impute import SimpleImputer\n",
        "\n",
        "# Load dataset\n",
        "df = pd.read_json(\"train.json\")  # Replace with your actual file path\n",
        "\n",
        "# Print the count of missing values for each column\n",
        "print(\"Missing values count before imputation:\")\n",
        "print(df.isnull().sum())\n",
        "\n",
        "# Fill missing values if any (just as a precaution)\n",
        "df['ingredients'].fillna('unknown', inplace=True)\n",
        "df['cuisine'].fillna('unknown', inplace=True)\n",
        "\n",
        "# Combine the ingredients list into a single string for each row\n",
        "df['ingredients'] = df['ingredients'].apply(lambda x: ' '.join(x))\n",
        "\n",
        "# Transform the ingredients column using CountVectorizer\n",
        "vectorizer = CountVectorizer()\n",
        "X = vectorizer.fit_transform(df['ingredients'])\n",
        "\n",
        "# Encode the target variable\n",
        "label_encoder = LabelEncoder()\n",
        "Y = label_encoder.fit_transform(df['cuisine'])\n",
        "# Apply PCA\n",
        "pca = PCA(n_components=2)\n",
        "X = pca.fit_transform(X.toarray())\n",
        "\n",
        "print(\"Transformed features after PCA:\")\n",
        "print(X)\n",
        "\n",
        "# Split the data into training and test sets\n",
        "X_train, X_test, y_train, y_test = train_test_split(X, Y, random_state=0, test_size=0.3)\n",
        "\n",
        "# Initialize and train the logistic regression model\n",
        "logr = LogisticRegression(max_iter=1000, solver='lbfgs')\n",
        "logr.fit(X_train, y_train)\n",
        "\n",
        "# Make predictions\n",
        "y_pred = logr.predict(X_test)\n",
        "\n",
        "# Print evaluation metrics\n",
        "print('Accuracy:', accuracy_score(y_test, y_pred))\n"
      ],
      "metadata": {
        "colab": {
          "base_uri": "https://localhost:8080/"
        },
        "id": "hVxJbo-8viWd",
        "outputId": "6066d427-904d-4dbf-c02d-93cca6dfdcff"
      },
      "execution_count": 18,
      "outputs": [
        {
          "output_type": "stream",
          "name": "stdout",
          "text": [
            "Missing values count before imputation:\n",
            "id             0\n",
            "cuisine        0\n",
            "ingredients    0\n",
            "dtype: int64\n",
            "Transformed features after PCA:\n",
            "[[-0.05353216 -0.40069337]\n",
            " [ 1.18822454 -1.38153839]\n",
            " [ 0.31928461  0.71106033]\n",
            " ...\n",
            " [-0.99022345 -1.45183978]\n",
            " [-0.03998329  2.09618342]\n",
            " [ 1.76257835 -0.47018914]]\n",
            "Accuracy: 0.2734433922735272\n"
          ]
        }
      ]
    },
    {
      "cell_type": "markdown",
      "source": [
        "# **Visualization**"
      ],
      "metadata": {
        "id": "MBwmS5uwvxzO"
      }
    },
    {
      "cell_type": "code",
      "source": [
        "import pandas as pd\n",
        "from sklearn.preprocessing import LabelEncoder\n",
        "\n",
        "# Load dataset (assuming train.json is your dataset)\n",
        "df = pd.read_json(\"train.json\")\n",
        "\n",
        "# Ensure 'cuisine' and 'ingredients' are properly loaded and handled\n",
        "df['ingredients'] = df['ingredients'].apply(lambda x: ' '.join(x))\n",
        "\n",
        "# Encode the 'cuisine' column\n",
        "label_encoder = LabelEncoder()\n",
        "df['cuisine'] = label_encoder.fit_transform(df['cuisine'])\n",
        "\n",
        "# Prepare X and Y\n",
        "X = df.drop(['id', 'cuisine'], axis=1)  # Assuming 'id' is dropped and 'cuisine' is the target\n",
        "Y = df['cuisine']\n",
        "\n",
        "# Print the updated DataFrame\n",
        "print(df.head())\n",
        ""
      ],
      "metadata": {
        "colab": {
          "base_uri": "https://localhost:8080/"
        },
        "id": "Wb3Xxezov2Sv",
        "outputId": "e1aacf91-eeac-453a-b403-5939dffdd021"
      },
      "execution_count": 19,
      "outputs": [
        {
          "output_type": "stream",
          "name": "stdout",
          "text": [
            "      id  cuisine                                        ingredients\n",
            "0  10259        6  romaine lettuce black olives grape tomatoes ga...\n",
            "1  25693       16  plain flour ground pepper salt tomatoes ground...\n",
            "2  20130        4  eggs pepper salt mayonaise cooking oil green c...\n",
            "3  22213        7                     water vegetable oil wheat salt\n",
            "4  13162        7  black pepper shallots cornflour cayenne pepper...\n"
          ]
        }
      ]
    },
    {
      "cell_type": "code",
      "source": [
        "import math\n",
        "import matplotlib.pyplot as plt\n",
        "# Scatter Plot to find correlations between two continuous variables\n",
        "plt.scatter(df[\"id\"], df[\"cuisine\"])\n",
        "plt.title(\"Scatter Plot\")\n",
        "plt.xlabel(\"id\")\n",
        "plt.ylabel(\"cuisine\")\n",
        "plt.show()"
      ],
      "metadata": {
        "colab": {
          "base_uri": "https://localhost:8080/",
          "height": 472
        },
        "id": "kl0d6zUbwBWx",
        "outputId": "9277e80b-d0f9-4b2c-e848-1c2630137369"
      },
      "execution_count": 20,
      "outputs": [
        {
          "output_type": "display_data",
          "data": {
            "text/plain": [
              "<Figure size 640x480 with 1 Axes>"
            ],
            "image/png": "[encoded data removed]"
          },
          "metadata": {}
        }
      ]
    },
    {
      "cell_type": "code",
      "source": [
        "# Histogram shows the distribution of a continuous variable\n",
        "plt.hist(df[\"cuisine\"])\n",
        "plt.title(\"Histogram Plot\")\n",
        "plt.xlabel(\"cuisine\")\n",
        "plt.ylabel(\"Frequency\")\n",
        "plt.show()"
      ],
      "metadata": {
        "colab": {
          "base_uri": "https://localhost:8080/",
          "height": 472
        },
        "id": "NK0r7389wInW",
        "outputId": "a823c538-7fc3-4326-e1b6-edb8f790c1c5"
      },
      "execution_count": 21,
      "outputs": [
        {
          "output_type": "display_data",
          "data": {
            "text/plain": [
              "<Figure size 640x480 with 1 Axes>"
            ],
            "image/png": "[encoded data removed]"
          },
          "metadata": {}
        }
      ]
    },
    {
      "cell_type": "code",
      "source": [
        "# Pie Chart to show the distribution of cuisine\n",
        "cuisine_counts = df['cuisine'].value_counts()\n",
        "cuisine_labels = cuisine_counts.index\n",
        "sizes = cuisine_counts.values\n",
        "\n",
        "plt.pie(sizes, labels=cuisine_labels, autopct='%1.1f%%', startangle=140, explode=[0.1] * len(sizes))\n",
        "plt.title(\"Pie Chart of Property Area Distribution\")\n",
        "plt.axis('equal')  # Equal aspect ratio ensures the pie is drawn as a circle.\n",
        "plt.show()\n"
      ],
      "metadata": {
        "colab": {
          "base_uri": "https://localhost:8080/",
          "height": 428
        },
        "id": "x9XTl5MJwKuJ",
        "outputId": "48902010-3265-45ea-8edd-bfae14838743"
      },
      "execution_count": 22,
      "outputs": [
        {
          "output_type": "display_data",
          "data": {
            "text/plain": [
              "<Figure size 640x480 with 1 Axes>"
            ],
            "image/png": "[encoded data removed]"
          },
          "metadata": {}
        }
      ]
    },
    {
      "cell_type": "code",
      "source": [
        "import seaborn as sns\n",
        "import matplotlib.pyplot as plt\n",
        "# Encode categorical variables\n",
        "label_encoder = LabelEncoder()\n",
        "for col in df.select_dtypes(include=['object']).columns:\n",
        "    df[col] = label_encoder.fit_transform(df[col].astype(str))\n",
        "\n",
        "# Calculate correlation matrix only for numerical columns\n",
        "numerical_df = df.drop('ingredients', axis=1)  # Remove the 'ingredients' column\n",
        "correlation_matrix = numerical_df.corr()  # Calculate correlations\n",
        "\n",
        "\n",
        "# Heatmap of the correlation matrix\n",
        "sns.heatmap(correlation_matrix, annot=True, cmap='coolwarm', fmt='.2f')\n",
        "plt.title(\"Heatmap of Correlation Matrix\")\n",
        "plt.show()\n"
      ],
      "metadata": {
        "colab": {
          "base_uri": "https://localhost:8080/",
          "height": 452
        },
        "id": "jDoz9K6ewKk7",
        "outputId": "6b49bf24-da57-4546-f0df-2708f5842f99"
      },
      "execution_count": 23,
      "outputs": [
        {
          "output_type": "display_data",
          "data": {
            "text/plain": [
              "<Figure size 640x480 with 2 Axes>"
            ],
            "image/png": "[encoded data removed]"
          },
          "metadata": {}
        }
      ]
    },
    {
      "cell_type": "code",
      "source": [],
      "metadata": {
        "id": "qLHzLsVwwKWH"
      },
      "execution_count": null,
      "outputs": []
    }
  ]
}